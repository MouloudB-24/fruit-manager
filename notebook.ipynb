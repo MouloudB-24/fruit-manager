{
 "cells": [
  {
   "cell_type": "code",
   "execution_count": 2,
   "id": "c119fd67",
   "metadata": {},
   "outputs": [],
   "source": [
    "inventaire = {\n",
    "    \"bananes\": 120,\n",
    "    \"mangues\": 232,\n",
    "    \"ananas\": 400,\n",
    "    \"noix de coco\": 165,\n",
    "    \"papayes\": 200\n",
    "}"
   ]
  },
  {
   "cell_type": "code",
   "execution_count": 3,
   "id": "0b8f8df3",
   "metadata": {},
   "outputs": [],
   "source": [
    "def afficher_inventaire(inventaire):\n",
    "    print(\"Inventaire actuel de Plantation\")\n",
    "    for fruit, quantite in inventaire.items():\n",
    "        print(f\"- {fruit.capitalize()} : {quantite} unités\")"
   ]
  },
  {
   "cell_type": "code",
   "execution_count": 4,
   "id": "113571d4",
   "metadata": {},
   "outputs": [],
   "source": [
    "def recolter(inventaire, fruit, quantite):\n",
    "    inventaire[fruit] = inventaire.get(fruit, 0) + quantite\n",
    "    print(f\"\\n Récolté {quantite} {fruit} supplémentaire !\")"
   ]
  },
  {
   "cell_type": "code",
   "execution_count": 11,
   "id": "91cb12ad",
   "metadata": {},
   "outputs": [],
   "source": [
    "def vendre(inventaire, fruit, quantite):\n",
    "    if inventaire.get(fruit, 0) >= quantite:\n",
    "        inventaire[fruit] -= quantite\n",
    "        print(f\"\\n Vendu {quantite} {fruit}\")\n",
    "    else:\n",
    "        print(f\"Pas assez de {fruit} pour vendre {quantite} unités\")"
   ]
  },
  {
   "cell_type": "code",
   "execution_count": 16,
   "id": "409883c3",
   "metadata": {},
   "outputs": [
    {
     "name": "stdout",
     "output_type": "stream",
     "text": [
      "Inventaire actuel de Plantation\n",
      "- Bananes : 140 unités\n",
      "- Mangues : 232 unités\n",
      "- Ananas : 400 unités\n",
      "- Noix de coco : 165 unités\n",
      "- Papayes : 200 unités\n"
     ]
    }
   ],
   "source": [
    "afficher_inventaire(inventaire)"
   ]
  },
  {
   "cell_type": "code",
   "execution_count": 12,
   "id": "2547beb8",
   "metadata": {},
   "outputs": [
    {
     "name": "stdout",
     "output_type": "stream",
     "text": [
      "\n",
      " Récolté 20 bananes supplémentaire !\n"
     ]
    }
   ],
   "source": [
    "recolter(inventaire, \"bananes\", 20)"
   ]
  },
  {
   "cell_type": "code",
   "execution_count": 15,
   "id": "6f200752",
   "metadata": {},
   "outputs": [
    {
     "name": "stdout",
     "output_type": "stream",
     "text": [
      "\n",
      " Vendu 10 bananes\n"
     ]
    }
   ],
   "source": [
    "vendre(inventaire, \"bananes\", 10)"
   ]
  },
  {
   "cell_type": "code",
   "execution_count": null,
   "id": "d9d2d03a",
   "metadata": {},
   "outputs": [],
   "source": []
  }
 ],
 "metadata": {
  "kernelspec": {
   "display_name": "Python 3",
   "language": "python",
   "name": "python3"
  },
  "language_info": {
   "codemirror_mode": {
    "name": "ipython",
    "version": 3
   },
   "file_extension": ".py",
   "mimetype": "text/x-python",
   "name": "python",
   "nbconvert_exporter": "python",
   "pygments_lexer": "ipython3",
   "version": "3.9.6"
  }
 },
 "nbformat": 4,
 "nbformat_minor": 5
}
